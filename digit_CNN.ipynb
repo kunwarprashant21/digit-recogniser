{
 "cells": [
  {
   "cell_type": "code",
   "execution_count": 1,
   "metadata": {},
   "outputs": [],
   "source": [
    "import numpy as np\n",
    "import pandas as pd\n",
    "import tensorflow as tf\n",
    "from tensorflow import keras\n",
    "import matplotlib.pyplot as plt"
   ]
  },
  {
   "cell_type": "code",
   "execution_count": 2,
   "metadata": {},
   "outputs": [],
   "source": [
    "data=pd.read_csv('mnist_train.csv')"
   ]
  },
  {
   "cell_type": "code",
   "execution_count": 3,
   "metadata": {},
   "outputs": [],
   "source": [
    "data1=np.asarray(data)"
   ]
  },
  {
   "cell_type": "code",
   "execution_count": 4,
   "metadata": {},
   "outputs": [
    {
     "name": "stdout",
     "output_type": "stream",
     "text": [
      "(42000, 785)\n"
     ]
    }
   ],
   "source": [
    "print(data1.shape)"
   ]
  },
  {
   "cell_type": "code",
   "execution_count": 5,
   "metadata": {},
   "outputs": [],
   "source": [
    "import random\n",
    "training=[]\n",
    "test=[]\n",
    "for x in range(len(data1)):\n",
    "    if 0.3<random.random():\n",
    "        training.append(data1[x][:])\n",
    "    else:\n",
    "        test.append(data1[x][:])\n",
    "    "
   ]
  },
  {
   "cell_type": "code",
   "execution_count": 6,
   "metadata": {},
   "outputs": [
    {
     "name": "stdout",
     "output_type": "stream",
     "text": [
      "29612\n",
      "12388\n",
      "29612\n",
      "12388\n"
     ]
    }
   ],
   "source": [
    "\n",
    "print(len(training))\n",
    "print(len(test))\n",
    "training1=np.array(training, dtype=np.uint8)\n",
    "test1=np.array(test, dtype=np.uint8)\n",
    "print(len(training1))\n",
    "print(len(test1))"
   ]
  },
  {
   "cell_type": "code",
   "execution_count": 7,
   "metadata": {},
   "outputs": [
    {
     "name": "stdout",
     "output_type": "stream",
     "text": [
      "(29612,)\n",
      "(12388,)\n",
      "(29612, 784)\n",
      "(12388, 784)\n"
     ]
    }
   ],
   "source": [
    "\n",
    "train_l=[]\n",
    "test_l=[]\n",
    "for x in range(len(training1)):\n",
    "    train_l.append(training1[x][0])\n",
    "for x in range(len(test1)):\n",
    "    test_l.append(test[x][0])\n",
    "\n",
    "train_label=np.array(train_l, dtype=np.uint8)\n",
    "test_label=np.array(test_l, dtype=np.uint8)\n",
    "\n",
    "training_image=np.delete(training1,0,1)\n",
    "test_image=np.delete(test1,0,1)\n",
    "print(train_label.shape)\n",
    "print(test_label.shape)\n",
    "print(training_image.shape)\n",
    "print(test_image.shape)"
   ]
  },
  {
   "cell_type": "code",
   "execution_count": 8,
   "metadata": {},
   "outputs": [],
   "source": [
    "training_image=training_image/255\n",
    "test_image=test_image/255\n",
    "\n"
   ]
  },
  {
   "cell_type": "code",
   "execution_count": 9,
   "metadata": {},
   "outputs": [
    {
     "data": {
      "image/png": "[encoded data removed]",
      "text/plain": [
       "<Figure size 432x288 with 1 Axes>"
      ]
     },
     "metadata": {
      "needs_background": "light"
     },
     "output_type": "display_data"
    },
    {
     "name": "stdout",
     "output_type": "stream",
     "text": [
      "label is  0\n"
     ]
    }
   ],
   "source": [
    "# Let's look at a one image\n",
    "IMG_INDEX = 74 # change this to look at other images\n",
    "image=np.reshape(training_image[IMG_INDEX][:],(28,28))\n",
    "plt.imshow(image ,cmap=plt.cm.binary)\n",
    "plt.grid(False)\n",
    "plt.axis('off')\n",
    "plt.show()\n",
    "print(\"label is \",train_label[IMG_INDEX])"
   ]
  },
  {
   "cell_type": "code",
   "execution_count": 11,
   "metadata": {},
   "outputs": [
    {
     "name": "stdout",
     "output_type": "stream",
     "text": [
      "(29612, 28, 28, 1)\n",
      "(12388, 28, 28, 1)\n"
     ]
    }
   ],
   "source": [
    "training_image=np.reshape(training_image,(29612,28,28,1))\n",
    "test_image=np.reshape(test_image,(12388,28,28,1))\n",
    "print(training_image.shape)\n",
    "print(test_image.shape)"
   ]
  },
  {
   "cell_type": "code",
   "execution_count": 12,
   "metadata": {},
   "outputs": [],
   "source": [
    "from tensorflow import keras\n",
    "from tensorflow.keras.models import Sequential\n",
    "from tensorflow.keras.layers import Dense, Dropout, Flatten\n",
    "from tensorflow.keras.layers import Conv2D, MaxPooling2D, BatchNormalization\n"
   ]
  },
  {
   "cell_type": "code",
   "execution_count": null,
   "metadata": {},
   "outputs": [],
   "source": [
    "\"\"\"model=Sequential()\n",
    "model.add(Conv2D(32, kernel_size=(3,3), activation='relu', input_shape=(28,28,1)))\n",
    "model.add(BatchNormalization())\n",
    "\n",
    "model.add(Conv2D(32, kernel_size=(3,3), activation='relu'))\n",
    "model.add(BatchNormalization())         \n",
    "model.add(MaxPooling2D(pool_size=(2,2)))\n",
    "model.add(Dropout(0.25))\n",
    "\n",
    "model.add(Conv2D(64, kernel_size=(3,3), activation='relu'))\n",
    "model.add(BatchNormalization())        \n",
    "model.add(MaxPooling2D(pool_size=(2,2)))\n",
    "model.add(Dropout(0.25))\n",
    "         \n",
    "model.add(Conv2D(128, kernel_size=(3,3), activation='relu'))\n",
    "model.add(BatchNormalization())        \n",
    "model.add(MaxPooling2D(pool_size=(2,2)))\n",
    "model.add(Dropout(0.25))\n",
    "         \n",
    "model.add(Flatten())\n",
    "  \n",
    "model.add(Dense(512, activation='relu'))\n",
    "model.add(BatchNormalization())         \n",
    "model.add(Dropout(0.5))\n",
    "         \n",
    "\n",
    "model.add(Dense(512, activation='relu'))\n",
    "model.add(BatchNormalization())         \n",
    "model.add(Dropout(0.5))         \n",
    "     \n",
    "model.add(Dense(10,activation='softmax'))         \n",
    "model.summary()\"\"\""
   ]
  },
  {
   "cell_type": "code",
   "execution_count": null,
   "metadata": {},
   "outputs": [],
   "source": [
    "\"\"\"model.compile(loss=keras.losses.sparse_categorical_crossentropy,\n",
    "             optimizer=keras.optimizers.Adam(),\n",
    "             metrics=['accuracy'])\"\"\""
   ]
  },
  {
   "cell_type": "code",
   "execution_count": null,
   "metadata": {},
   "outputs": [],
   "source": [
    "\"\"\"model.summary()\"\"\""
   ]
  },
  {
   "cell_type": "code",
   "execution_count": null,
   "metadata": {},
   "outputs": [],
   "source": [
    "\"\"\"history=model.fit(training_image, train_label, batch_size=256, epochs=5, validation_data=(test_image, test_label))\"\"\""
   ]
  },
  {
   "cell_type": "code",
   "execution_count": null,
   "metadata": {},
   "outputs": [],
   "source": [
    "\"\"\"#evaluating the model\n",
    "test_loss, test_acc = model.evaluate(test_image,  test_label, verbose=2)\n",
    "print(test_acc)\"\"\"\n"
   ]
  },
  {
   "cell_type": "code",
   "execution_count": null,
   "metadata": {},
   "outputs": [],
   "source": [
    "\"\"\"model.save(\"digit_cnn4_model.h5\")  # we can save the model and reload it at anytime in the future\"\"\""
   ]
  },
  {
   "cell_type": "code",
   "execution_count": null,
   "metadata": {},
   "outputs": [],
   "source": []
  },
  {
   "cell_type": "code",
   "execution_count": null,
   "metadata": {},
   "outputs": [],
   "source": []
  }
 ],
 "metadata": {
  "kernelspec": {
   "display_name": "Python 3",
   "language": "python",
   "name": "python3"
  },
  "language_info": {
   "codemirror_mode": {
    "name": "ipython",
    "version": 3
   },
   "file_extension": ".py",
   "mimetype": "text/x-python",
   "name": "python",
   "nbconvert_exporter": "python",
   "pygments_lexer": "ipython3",
   "version": "3.6.9"
  }
 },
 "nbformat": 4,
 "nbformat_minor": 2
}
